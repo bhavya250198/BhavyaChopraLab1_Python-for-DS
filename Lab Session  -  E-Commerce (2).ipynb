{
 "cells": [
  {
   "cell_type": "markdown",
   "id": "2c8f47d3",
   "metadata": {
    "id": "2c8f47d3"
   },
   "source": [
    "# Lab Session"
   ]
  },
  {
   "cell_type": "markdown",
   "id": "f637aba6",
   "metadata": {
    "id": "f637aba6"
   },
   "source": [
    "## <font color='blue'> Table Of Contents </font>\n",
    "- Problem Statement \n",
    "- Load required libraries\n",
    "- Connect to DB using mysql-connector-python package\n",
    "- Create database named `e_commerce`\n",
    "- Create tables and insert data into tables as specified in the question\n",
    "- Read all the questions and write sql queries to meet the objective "
   ]
  },
  {
   "cell_type": "markdown",
   "id": "1073fc90",
   "metadata": {
    "id": "1073fc90"
   },
   "source": [
    "## <font color='blue'> Problem Statement </font>\n",
    "###  An E-commerce website manages its data in the form of various tables.\n",
    "You need to create a Database called `e_commerce` and various tables in it. The tables needed and attributes which need to be in every table are given before hand. All you have to do is create tables with data in it and answer some of the questions that follows."
   ]
  },
  {
   "cell_type": "markdown",
   "id": "48787355",
   "metadata": {
    "id": "48787355"
   },
   "source": [
    "### e_commerce Schema:"
   ]
  },
  {
   "cell_type": "markdown",
   "id": "d9abe6c7",
   "metadata": {
    "id": "d9abe6c7"
   },
   "source": [
    "### Load Required Libraries"
   ]
  },
  {
   "cell_type": "code",
   "execution_count": 2,
   "id": "0178d08e",
   "metadata": {
    "id": "0178d08e"
   },
   "outputs": [
    {
     "name": "stdout",
     "output_type": "stream",
     "text": [
      "Requirement already satisfied: mysql-connector-python in c:\\users\\asus-nb\\anaconda3\\lib\\site-packages (8.1.0)\n",
      "Requirement already satisfied: protobuf<=4.21.12,>=4.21.1 in c:\\users\\asus-nb\\anaconda3\\lib\\site-packages (from mysql-connector-python) (4.21.12)\n"
     ]
    }
   ],
   "source": [
    "!pip install mysql-connector-python\n",
    "import mysql.connector;\n",
    "import pandas as pd;"
   ]
  },
  {
   "cell_type": "markdown",
   "id": "d7d7fd5c",
   "metadata": {
    "id": "d7d7fd5c"
   },
   "source": [
    "### Connect to DB using Mysql-connector-python package"
   ]
  },
  {
   "cell_type": "code",
   "execution_count": 3,
   "id": "ef7bef72",
   "metadata": {
    "id": "ef7bef72"
   },
   "outputs": [],
   "source": [
    "connection = mysql.connector.connect(host =\"localhost\",user=\"root\",passwd=\"Bhavya2501@98\")\n",
    "\n",
    "cursorObject = connection.cursor();"
   ]
  },
  {
   "cell_type": "markdown",
   "id": "9d55e510",
   "metadata": {
    "id": "9d55e510"
   },
   "source": [
    "### You are required to create a database named 'e_commerce'"
   ]
  },
  {
   "cell_type": "code",
   "execution_count": 4,
   "id": "42a154f2",
   "metadata": {
    "id": "42a154f2"
   },
   "outputs": [],
   "source": [
    "cursorObject.execute(\"CREATE DATABASE e_commerce\");\n",
    "connection.close();"
   ]
  },
  {
   "cell_type": "markdown",
   "id": "480dc986",
   "metadata": {
    "id": "480dc986"
   },
   "source": [
    "+`### Q1. Create tables for supplier, customer, category, product, productDetails, order, rating to store the data for the E-commerce with the schema definition given below.\n",
    "\n",
    "\n",
    "- **`supplier`**(SUPP_ID int primary key, SUPP_NAME varchar(50), SUPP_CITY varchar(50), SUPP_PHONE varchar(10))\n",
    "\n",
    "\n",
    "- **`customer`** (CUS_ID INT NOT NULL, CUS_NAME VARCHAR(20) NULL DEFAULT NULL, CUS_PHONE VARCHAR(10), CUS_CITY varchar(30) ,CUS_GENDER CHAR,PRIMARY KEY (CUS_ID))\n",
    "\n",
    "\n",
    "- **`category`** (CAT_ID INT NOT NULL, CAT_NAME VARCHAR(20) NULL DEFAULT NULL,PRIMARY KEY (CAT_ID))\n",
    "\n",
    "\n",
    "- **`product`** (PRO_ID INT NOT NULL, PRO_NAME VARCHAR(20) NULL DEFAULT NULL, PRO_DESC VARCHAR(60) NULL DEFAULT NULL, CAT_ID INT NOT NULL,PRIMARY KEY (PRO_ID),FOREIGN KEY (CAT_ID) REFERENCES CATEGORY (CAT_ID))\n",
    "\n",
    "\n",
    "- **`product_details`** (PROD_ID INT NOT NULL, PRO_ID INT NOT NULL, SUPP_ID INT NOT NULL, PROD_PRICE INT NOT NULL,\n",
    "  PRIMARY KEY (PROD_ID),FOREIGN KEY (PRO_ID) REFERENCES PRODUCT (PRO_ID), FOREIGN KEY (SUPP_ID) REFERENCES SUPPLIER(SUPP_ID))\n",
    "  \n",
    "  \n",
    "- **`order`** (ORD_ID INT NOT NULL, ORD_AMOUNT INT NOT NULL, ORD_DATE DATE, CUS_ID INT NOT NULL, PROD_ID INT NOT NULL,PRIMARY KEY (ORD_ID),FOREIGN KEY (CUS_ID) REFERENCES CUSTOMER(CUS_ID),FOREIGN KEY (PROD_ID) REFERENCES PRODUCT_DETAILS(PROD_ID))\n",
    "\n",
    "\n",
    "- **`rating`** (RAT_ID INT NOT NULL, CUS_ID INT NOT NULL, SUPP_ID INT NOT NULL, RAT_RATSTARS INT NOT NULL,PRIMARY KEY (RAT_ID),FOREIGN KEY (SUPP_ID) REFERENCES SUPPLIER (SUPP_ID),FOREIGN KEY (CUS_ID) REFERENCES CUSTOMER(CUS_ID))"
   ]
  },
  {
   "cell_type": "code",
   "execution_count": 5,
   "id": "967b718f",
   "metadata": {
    "id": "967b718f"
   },
   "outputs": [],
   "source": [
    "connection = mysql.connector.connect(host =\"localhost\",user=\"root\",passwd=\"Bhavya2501@98\")\n",
    "\n",
    "cursorObject = connection.cursor();\n",
    "\n",
    "cursorObject.execute('USE e_commerce');\n",
    "\n",
    "table_creation_query ='''CREATE TABLE SUPPLIER(SUPP_ID int primary key, SUPP_NAME varchar(50), SUPP_CITY varchar(50), SUPP_PHONE varchar(10));\n",
    "\n",
    "\n",
    "  CREATE TABLE CUSTOMER(CUS_ID INT NOT NULL, CUS_NAME VARCHAR(20) NULL DEFAULT NULL, CUS_PHONE VARCHAR(10), CUS_CITY varchar(30) ,CUS_GENDER CHAR,PRIMARY KEY (CUS_ID));\n",
    "\n",
    "\n",
    " CREATE TABLE CATEGORY(CAT_ID INT NOT NULL, CAT_NAME VARCHAR(20) NULL DEFAULT NULL,PRIMARY KEY (CAT_ID));\n",
    "\n",
    "\n",
    "CREATE TABLE PRODUCT(PRO_ID INT NOT NULL, PRO_NAME VARCHAR(20) NULL DEFAULT NULL, PRO_DESC VARCHAR(60) NULL DEFAULT NULL, CAT_ID INT NOT NULL,PRIMARY KEY (PRO_ID),FOREIGN KEY (CAT_ID) REFERENCES CATEGORY (CAT_ID));\n",
    "\n",
    "\n",
    " CREATE TABLE PRODUCT_DETAILS (PROD_ID INT NOT NULL, PRO_ID INT NOT NULL, SUPP_ID INT NOT NULL, PROD_PRICE INT NOT NULL,\n",
    "  PRIMARY KEY (PROD_ID),FOREIGN KEY (PRO_ID) REFERENCES PRODUCT (PRO_ID), FOREIGN KEY (SUPP_ID) REFERENCES SUPPLIER(SUPP_ID));\n",
    "  \n",
    "  \n",
    "CREATE TABLE ORDERS(ORD_ID INT NOT NULL, ORD_AMOUNT INT NOT NULL, ORD_DATE DATE, CUS_ID INT NOT NULL, PROD_ID INT NOT NULL,PRIMARY KEY (ORD_ID),FOREIGN KEY (CUS_ID) REFERENCES CUSTOMER(CUS_ID),FOREIGN KEY (PROD_ID) REFERENCES PRODUCT_DETAILS(PROD_ID));\n",
    "\n",
    "\n",
    "CREATE TABLE RATING(RAT_ID INT NOT NULL, CUS_ID INT NOT NULL, SUPP_ID INT NOT NULL, RAT_RATSTARS INT NOT NULL,PRIMARY KEY (RAT_ID),FOREIGN KEY (SUPP_ID) REFERENCES SUPPLIER (SUPP_ID),FOREIGN KEY (CUS_ID) REFERENCES CUSTOMER(CUS_ID));'''\n",
    "cursorObject.execute(table_creation_query);"
   ]
  },
  {
   "cell_type": "markdown",
   "id": "1f653731",
   "metadata": {
    "id": "1f653731"
   },
   "source": [
    "### Q2. Insert the following data in the table created above\n",
    "#### `Note:` If you are getting any error while inserting the data into tables, Kindly close the connection and reconnect\n",
    "\n",
    "#### Table:  supplier\n",
    "| SUPP_ID | SUPP_NAME | SUPP_CITY | SUPP_PHONE |\n",
    "| --- | --- | --- | --- | \n",
    "| 1 | Rajesh Retails | Delhi | 1234567890 |\n",
    "| 2 | Appario Ltd. | Mumbai | 258963147032 | \n",
    "| 3 | Knome products | Bangalore | 9785462315 |\n",
    "| 4 | Bansal Retails | Kochi | 8975463285 |\n",
    "| 5 | Mittal Ltd. | Lucknow | 7898456532 |"
   ]
  },
  {
   "cell_type": "code",
   "execution_count": null,
   "id": "3cda00f8",
   "metadata": {},
   "outputs": [],
   "source": [
    "# insert into \"supplier\" table\n",
    "import mysql.connector\n",
    "\n",
    "# Establish a connection to the MySQL server and select the 'e_commerce' database.\n",
    "connection = mysql.connector.connect(host=\"localhost\", user=\"root\", passwd=\"Bhavya2501@98\", database=\"e_commerce\")\n",
    "cursorObject = connection.cursor()\n",
    "cursorObject.execute('ALTER TABLE `supplier` MODIFY `SUPP_PHONE` VARCHAR(20);')\n",
    "# Define the SQL query to insert data into the 'supplier' table.\n",
    "table_insertion_query = '''\n",
    "INSERT INTO `supplier` (`SUPP_ID`, `SUPP_NAME`, `SUPP_CITY`, `SUPP_PHONE`)\n",
    "VALUES\n",
    "(1, 'Rajesh Retails', 'Delhi', '1234567890'),\n",
    "(2, 'Appario Ltd.', 'Mumbai', '258963147032'),\n",
    "(3, 'Knome products', 'Bangalore', '9785462315'),\n",
    "(4, 'Bansal Retails', 'Kochi', '8975463285'),\n",
    "(5, 'Mittal Ltd.', 'Lucknow', '7898456532');\n",
    "'''\n",
    "\n",
    "cursorObject.execute(table_insertion_query)\n",
    "\n",
    "# Commit the changes to the database.\n",
    "connection.commit()\n"
   ]
  },
  {
   "cell_type": "markdown",
   "id": "e8a070a6",
   "metadata": {
    "id": "e8a070a6"
   },
   "source": [
    "#### Table:  customer\n",
    "| CUS_ID | CUS_NAME | SUPP_PHONE | CUS_CITY | CUS_GENDER\n",
    "| --- | --- | --- | --- | --- |\n",
    "| 1 | AAKASH | 9999999999 | DELHI | M |\n",
    "| 2 | AMAN | 9785463215 | NOIDA | M |\n",
    "| 3 | NEHA | 9999999998 | MUMBAI | F |\n",
    "| 4 | MEGHA | 9994562399 | KOLKATA | F |\n",
    "| 5 | PULKIT | 7895999999 | LUCKNOW | M |"
   ]
  },
  {
   "cell_type": "code",
   "execution_count": null,
   "id": "15a4ee87",
   "metadata": {
    "id": "15a4ee87"
   },
   "outputs": [],
   "source": [
    "import mysql.connector\n",
    "import pandas as pd\n",
    "\n",
    "# Establish a connection to the MySQL server and select the 'e_commerce' database.\n",
    "connection = mysql.connector.connect(host=\"localhost\", user=\"root\", passwd=\"Bhavya2501@98\", database=\"e_commerce\")\n",
    "cursorObject = connection.cursor()\n",
    "\n",
    "# Your data insertion query\n",
    "table_insertion_query = '''\n",
    "INSERT INTO `e_commerce`.`customer` (`CUS_ID`, `CUS_NAME`, `CUS_PHONE`, `CUS_CITY`, `CUS_GENDER`)\n",
    "VALUES\n",
    "(1, 'AAKASH', '9999999999', 'DELHI', 'M'),\n",
    "(2, 'AMAN', '9785463215', 'NOIDA', 'M'),\n",
    "(3, 'NEHA', '9999999998', 'MUMBAI', 'F'),\n",
    "(4, 'MEGHA', '9994562399', 'KOLKATA', 'F'),\n",
    "(5, 'PULKIT', '7895999999', 'LUCKNOW', 'M');\n",
    "'''\n",
    "\n",
    "# Execute the insertion query\n",
    "cursorObject.execute(table_insertion_query)\n",
    "\n",
    "# Commit the changes to the database\n",
    "connection.commit()\n",
    "\n",
    "\n"
   ]
  },
  {
   "cell_type": "markdown",
   "id": "b68bfbc2",
   "metadata": {
    "id": "b68bfbc2"
   },
   "source": [
    "#### Table:  category\n",
    "| CAT_ID | CAT_NAME | \n",
    "| --- | --- |  \n",
    "| 1 | BOOKS |\n",
    "| 2 | GAMES |  \n",
    "| 3 | GROCERIES | \n",
    "| 4 | ELECTRONICS | \n",
    "| 5 | CLOTHES | "
   ]
  },
  {
   "cell_type": "code",
   "execution_count": null,
   "id": "05a00abc",
   "metadata": {
    "id": "05a00abc"
   },
   "outputs": [],
   "source": [
    "# insert into \"categoty\" table\n",
    "import mysql.connector;\n",
    "import pandas as pd;\n",
    "connection = mysql.connector.connect(host =\"localhost\",user=\"root\",passwd=\"Bhavya2501@98\")\n",
    "\n",
    "cursorObject = connection.cursor();\n",
    "\n",
    "cursorObject.execute('USE e_commerce');\n",
    "\n",
    "table_insertion_query = '''\n",
    "INSERT INTO `e_commerce`.`category` (`CAT_ID`, `CAT_NAME`)\n",
    "VALUES\n",
    "(1, 'BOOKS'),\n",
    "(2, 'GAMES'),\n",
    "(3, 'GROCERIES'),\n",
    "(4, 'ELECTRONICS'),\n",
    "(5, 'CLOTHES');\n",
    "'''\n",
    "\n",
    "cursorObject.execute(table_insertion_query);\n",
    "\n"
   ]
  },
  {
   "cell_type": "markdown",
   "id": "eb3bc592",
   "metadata": {
    "id": "eb3bc592"
   },
   "source": [
    "#### Table:  product\n",
    "| PRO_ID | PRO_NAME | PRO_DESC | CAT_ID |\n",
    "| --- | --- | --- | --- | \n",
    "| 1 | GTA V | DFJDJFDJFDJFDJFJF | 2 |\n",
    "| 2 | TSHIRT | DFDFJDFJDKFD | 5 | \n",
    "| 3 | ROG LAPTOP | DFNTTNTNTERND | 4 |\n",
    "| 4 | OATS | REURENTBTOTH | 3 |\n",
    "| 5 | HARRY POTTER | NBEMCTHTJTH | 1 |\n"
   ]
  },
  {
   "cell_type": "code",
   "execution_count": null,
   "id": "cdfbdfad",
   "metadata": {
    "id": "cdfbdfad"
   },
   "outputs": [],
   "source": [
    "# insert into \"product\" table\n",
    "import mysql.connector;\n",
    "import pandas as pd;\n",
    "connection = mysql.connector.connect(host =\"localhost\",user=\"root\",passwd=\"Bhavya2501@98\")\n",
    "\n",
    "cursorObject = connection.cursor();\n",
    "\n",
    "cursorObject.execute('USE e_commerce');\n",
    "\n",
    "table_insertion_query = '''\n",
    "INSERT INTO `e_commerce`.`product` (`PRO_ID`, `PRO_NAME`, `PRO_DESC`, `CAT_ID`)\n",
    "VALUES\n",
    "(1, 'GTA V', 'DFJDJFDJFDJFDJFJF', 2),\n",
    "(2, 'TSHIRT', 'DFDFJDFJDKFD', 5),\n",
    "(3, 'ROG LAPTOP', 'DFNTTNTNTERND', 4),\n",
    "(4, 'OATS', 'REURENTBTOTH', 3),\n",
    "(5, 'HARRY POTTER', 'NBEMCTHTJTH', 1);\n",
    "'''\n",
    "\n",
    "cursorObject.execute(table_insertion_query);"
   ]
  },
  {
   "cell_type": "markdown",
   "id": "cfa8a47d",
   "metadata": {
    "id": "cfa8a47d"
   },
   "source": [
    "#### Table:  product_details\n",
    "| PROD_ID | PRO_ID | SUPP_ID | PROD_PRICE |\n",
    "| --- | --- | --- | --- | \n",
    "| 1 | 1 | 2 | 1500 |\n",
    "| 2 | 3 | 5 | 30000 | \n",
    "| 3 | 5 | 1 | 3000 |\n",
    "| 4 | 2 | 3 | 2500 |\n",
    "| 5 | 4 | 1 | 1000 |"
   ]
  },
  {
   "cell_type": "code",
   "execution_count": null,
   "id": "c18ea964",
   "metadata": {
    "id": "c18ea964"
   },
   "outputs": [],
   "source": [
    "\n",
    "connection = mysql.connector.connect(host =\"localhost\",user=\"root\",passwd=\"Bhavya2501@98\")\n",
    "\n",
    "cursorObject = connection.cursor();\n",
    "\n",
    "cursorObject.execute('USE e_commerce');\n",
    "\n",
    "table_insertion_query = '''\n",
    "INSERT INTO `e_commerce`.`product_details` (`PROD_ID`, `PRO_ID`, `SUPP_ID`, `PROD_PRICE`)\n",
    "VALUES\n",
    "(1, 1, 2, 1500),\n",
    "(2, 3, 5, 30000),\n",
    "(3, 5, 1, 3000),\n",
    "(4, 2, 3, 2500),\n",
    "(5, 4, 1, 1000);\n",
    "'''\n",
    "\n",
    "cursorObject.execute(table_insertion_query);"
   ]
  },
  {
   "cell_type": "markdown",
   "id": "1df49086",
   "metadata": {
    "id": "1df49086"
   },
   "source": [
    "#### Table:  orders\n",
    "| ORD_ID | ORD_AMOUNT | ORD_DATE | CUS_ID | PROD_ID\n",
    "| --- | --- | --- | --- | --- |\n",
    "| 20 | 1500 | 2021-10-12 | 3 | 5 |\n",
    "| 25 | 30500 | 2021-09-16 | 5 | 2 |\n",
    "| 26 | 2000 | 2021-10-05 | 1 | 1 |\n",
    "| 30 | 3500 | 2021-08-16 | 4 | 3 |\n",
    "| 50 | 2000 | 2021-10-06 | 2 | 1 |"
   ]
  },
  {
   "cell_type": "code",
   "execution_count": null,
   "id": "0d97dc92",
   "metadata": {
    "id": "0d97dc92"
   },
   "outputs": [],
   "source": [
    "# insert into \"orders\" table\n",
    "import mysql.connector;\n",
    "import pandas as pd;\n",
    "connection = mysql.connector.connect(host =\"localhost\",user=\"root\",passwd=\"Bhavya2501@98\")\n",
    "\n",
    "cursorObject = connection.cursor();\n",
    "\n",
    "cursorObject.execute('USE e_commerce');\n",
    "\n",
    "table_insertion_query = '''\n",
    "INSERT INTO `e_commerce`.`orders`\n",
    "(`ORD_ID`, `ORD_AMOUNT`, `ORD_DATE`, `CUS_ID`, `PROD_ID`)\n",
    "VALUES\n",
    "(20, 1500, '2021-10-12', 3, 5),\n",
    "(25, 30500, '2021-09-16', 5, 2),\n",
    "(26, 2000, '2021-10-05', 1, 1),\n",
    "(30, 3500, '2021-08-16', 4, 3),\n",
    "(50, 2000, '2021-10-06', 2, 1);\n",
    "'''\n",
    "\n",
    "cursorObject.execute(table_insertion_query);"
   ]
  },
  {
   "cell_type": "markdown",
   "id": "75b8ce5f",
   "metadata": {
    "id": "75b8ce5f"
   },
   "source": [
    "#### Table: rating\n",
    "| RAT_ID | CUS_ID | SUPP_ID | RAT_RATSTARS |\n",
    "| --- | --- | --- | --- | \n",
    "| 1 | 2 | 2 | 4 |\n",
    "| 2 | 3 | 4 | 3 | \n",
    "| 3 | 5 | 1 | 5 |\n",
    "| 4 | 1 | 3 | 2 |\n",
    "| 5 | 4 | 5 | 4 |"
   ]
  },
  {
   "cell_type": "code",
   "execution_count": null,
   "id": "6d5f1e18",
   "metadata": {
    "id": "6d5f1e18"
   },
   "outputs": [],
   "source": [
    "# insert into \"rating\" table\n",
    "import mysql.connector;\n",
    "import pandas as pd;\n",
    "connection = mysql.connector.connect(host =\"localhost\",user=\"root\",passwd=\"Bhavya2501@98\")\n",
    "\n",
    "cursorObject = connection.cursor();\n",
    "\n",
    "cursorObject.execute('USE e_commerce');\n",
    "\n",
    "table_insertion_query = '''\n",
    "INSERT INTO `e_commerce`.`rating`\n",
    "(`RAT_ID`, `CUS_ID`, `SUPP_ID`, `RAT_RATSTARS`)\n",
    "VALUES\n",
    "(1, 2, 2, 4),\n",
    "(2, 3, 4, 3),\n",
    "(3, 5, 1, 5),\n",
    "(4, 1, 3, 2),\n",
    "(5, 4, 5, 4);\n",
    "'''\n",
    "\n",
    "cursorObject.execute(table_insertion_query);"
   ]
  },
  {
   "cell_type": "markdown",
   "id": "b59361c3",
   "metadata": {
    "id": "b59361c3"
   },
   "source": [
    "### Q3) Display the number of the customer group by their genders who have placed any order of amount greater than or equal to Rs.3000."
   ]
  },
  {
   "cell_type": "code",
   "execution_count": null,
   "id": "fcafaf3c",
   "metadata": {
    "id": "fcafaf3c"
   },
   "outputs": [],
   "source": [
    "import mysql.connector;\n",
    "import pandas as pd;\n",
    "connection = mysql.connector.connect(host =\"localhost\",user=\"root\",passwd=\"Bhavya2501@98\")\n",
    "\n",
    "cursorObject = connection.cursor();\n",
    "\n",
    "cursorObject.execute('USE e_commerce');\n",
    "\n",
    "table_insertion_query = '''\n",
    "SELECT c.CUS_NAME AS customer_name, COUNT(c.CUS_NAME) AS customer_count, o.ORD_AMOUNT\n",
    "FROM e_commerce.customer c\n",
    "LEFT JOIN e_commerce.orders o ON c.CUS_ID = o.CUS_ID\n",
    "GROUP BY c.CUS_NAME, o.ORD_AMOUNT\n",
    "HAVING o.ORD_AMOUNT >= 3000;\n",
    "'''\n",
    "\n",
    "cursorObject.execute(query);\n",
    "output= cursorObj.fetchAll();\n",
    "output_df = pd.DataFrame(output,columns=['NAME','COUNT','ORDER AMOUNT'])\n",
    "output_df"
   ]
  },
  {
   "cell_type": "markdown",
   "id": "e49e04f5",
   "metadata": {
    "id": "e49e04f5"
   },
   "source": [
    "### Q4) Display all the order along with product name ordered by a customer having Customer_Id=2;"
   ]
  },
  {
   "cell_type": "markdown",
   "id": "967bb5db",
   "metadata": {
    "id": "9dcb7883"
   },
   "source": [
    "import mysql.connector;\n",
    "import pandas as pd;\n",
    "connection = mysql.connector.connect(host =\"localhost\",user=\"root\",passwd=\"Bhavya2501@98\")\n",
    "\n",
    "cursorObject = connection.cursor();\n",
    "\n",
    "cursorObject.execute('USE e_commerce');\n",
    "\n",
    "table_insertion_query = '''\n",
    "SELECT o.ORD_ID, o.ORD_AMOUNT, o.ORD_DATE, p.PRO_NAME\n",
    "FROM e_commerce.orders o\n",
    "LEFT JOIN e_commerce.product p ON o.PROD_ID = p.PRO_ID\n",
    "WHERE o.CUS_ID = 2;\n",
    "\n",
    "'''\n",
    "\n",
    "cursorObject.execute(query);\n",
    "output= cursorObj.fetchAll();\n",
    "output_df = pd.DataFrame(output,columns=['ID','AMOUNT','DATE','PRODUCT NAME'])\n",
    "output_df"
   ]
  },
  {
   "cell_type": "markdown",
   "id": "3a33398e",
   "metadata": {
    "id": "3a33398e"
   },
   "source": [
    "### Q5) Display the Supplier details who can supply more than one product."
   ]
  },
  {
   "cell_type": "markdown",
   "id": "dfb64672",
   "metadata": {
    "id": "e933b979"
   },
   "source": [
    "import mysql.connector;\n",
    "import pandas as pd;\n",
    "connection = mysql.connector.connect(host =\"localhost\",user=\"root\",passwd=\"Bhavya2501@98\")\n",
    "\n",
    "cursorObject = connection.cursor();\n",
    "\n",
    "cursorObject.execute('USE e_commerce');\n",
    "\n",
    "table_insertion_query = '''\n",
    "SELECT a.SUPP_ID, a.SUPP_NAME, a.SUPP_CITY, a.SUPP_PHONE\n",
    "FROM e_commerce.supplier a\n",
    "LEFT JOIN e_commerce.product_details pro ON a.SUPP_ID = pro.SUPP_ID\n",
    "GROUP BY a.SUPP_ID, a.SUPP_NAME, a.SUPP_CITY, a.SUPP_PHONE\n",
    "HAVING COUNT(pro.PRO_ID) > 1;\n",
    "'''\n",
    "\n",
    "cursorObject.execute(query);\n",
    "output= cursorObj.fetchAll();\n",
    "output_df = pd.DataFrame(output,columns=['ID','NAME','CITY','PHONE'])\n",
    "output_df"
   ]
  },
  {
   "cell_type": "markdown",
   "id": "5fd319ef",
   "metadata": {
    "id": "5fd319ef"
   },
   "source": [
    "### Q6) Find the category of the product whose order amount is minimum."
   ]
  },
  {
   "cell_type": "code",
   "execution_count": null,
   "id": "06f5cb51",
   "metadata": {
    "id": "06f5cb51"
   },
   "outputs": [],
   "source": [
    "import mysql.connector;\n",
    "import pandas as pd;\n",
    "connection = mysql.connector.connect(host =\"localhost\",user=\"root\",passwd=\"Bhavya2501@98\")\n",
    "\n",
    "cursorObject = connection.cursor();\n",
    "\n",
    "cursorObject.execute('USE e_commerce');\n",
    "\n",
    "table_insertion_query = '''\n",
    "SELECT  result2.CAT_NAME\n",
    "FROM (\n",
    "    SELECT result1.product_id, MIN(result1.order_amount) AS min_order_amount\n",
    "    FROM (\n",
    "        SELECT o.ORD_AMOUNT AS order_amount, product_det.PRO_ID AS product_id\n",
    "        FROM e_commerce.orders o\n",
    "        LEFT JOIN e_commerce.product_details product_det ON o.PROD_ID = product_det.PROD_ID\n",
    "    ) AS result1\n",
    ") AS min_order\n",
    "LEFT JOIN (\n",
    "    SELECT prod.PRO_ID AS pro_id, prod.PRO_NAME, prod.PRO_DESC, cat.CAT_NAME\n",
    "    FROM e_commerce.product prod\n",
    "    LEFT JOIN e_commerce.category cat ON prod.CAT_ID = cat.CAT_ID\n",
    ") AS result2 ON min_order.product_id = result2.pro_id;\n",
    "'''\n",
    "\n",
    "cursorObject.execute(query);\n",
    "output= cursorObj.fetchAll();\n",
    "output_df = pd.DataFrame(output,columns=['NAME'])\n",
    "output_df"
   ]
  },
  {
   "cell_type": "markdown",
   "id": "107102d4",
   "metadata": {
    "id": "107102d4"
   },
   "source": [
    "### Q7) Display the Id and Name of the Product ordered after “2021-10-05”."
   ]
  },
  {
   "cell_type": "code",
   "execution_count": null,
   "id": "5d3fc7e8",
   "metadata": {
    "id": "5d3fc7e8"
   },
   "outputs": [],
   "source": [
    "import mysql.connector;\n",
    "import pandas as pd;\n",
    "connection = mysql.connector.connect(host =\"localhost\",user=\"root\",passwd=\"Bhavya2501@98\")\n",
    "\n",
    "cursorObject = connection.cursor();\n",
    "\n",
    "cursorObject.execute('USE e_commerce');\n",
    "\n",
    "table_insertion_query = '''\n",
    "SELECT p.PRO_ID, p.PRO_NAME\n",
    "FROM e_commerce.product p\n",
    "LEFT JOIN (\n",
    "    SELECT o.PROD_ID, o.ORD_AMOUNT AS order_amount, o.ORD_DATE AS order_date\n",
    "    FROM e_commerce.orders o\n",
    "    LEFT JOIN e_commerce.product_details product_det ON o.PROD_ID = product_det.PRO_ID\n",
    ") AS result1 ON p.PRO_ID = result1.PROD_ID\n",
    "WHERE result1.order_date > '2021-10-05';\n",
    "'''\n",
    "\n",
    "cursorObject.execute(query);\n",
    "output= cursorObj.fetchAll();\n",
    "output_df = pd.DataFrame(output,columns=['ID','NAME'])\n",
    "output_df"
   ]
  },
  {
   "cell_type": "markdown",
   "id": "bdce7167",
   "metadata": {
    "id": "bdce7167"
   },
   "source": [
    "### Q8) Print the top 3 supplier name and id and rating on the basis of their rating along with the customer name who has given the rating."
   ]
  },
  {
   "cell_type": "code",
   "execution_count": null,
   "id": "fa0cbe44",
   "metadata": {
    "id": "fa0cbe44"
   },
   "outputs": [],
   "source": [
    "import mysql.connector;\n",
    "import pandas as pd;\n",
    "connection = mysql.connector.connect(host =\"localhost\",user=\"root\",passwd=\"Bhavya2501@98\")\n",
    "\n",
    "cursorObject = connection.cursor();\n",
    "\n",
    "cursorObject.execute('USE e_commerce');\n",
    "\n",
    "table_insertion_query = '''\n",
    "SELECT sup.SUPP_ID, sup.SUPP_NAME, sup.SUPP_CITY, sup.SUPP_PHONE, result.RAT_RATSTARS, result.CUS_NAME\n",
    "FROM e_commerce.supplier sup\n",
    "LEFT JOIN (\n",
    "    SELECT rates.RAT_ID, rates.SUPP_ID, rates.CUS_ID, rates.RAT_RATSTARS, cust.CUS_NAME\n",
    "    FROM e_commerce.rating rates\n",
    "    LEFT JOIN e_commerce.customer cust ON rates.CUS_ID = cust.CUS_ID\n",
    ") AS result ON sup.SUPP_ID = result.SUPP_ID\n",
    "ORDER BY result.RAT_RATSTARS DESC\n",
    "LIMIT 3;\n",
    "'''\n",
    "\n",
    "cursorObject.execute(query);\n",
    "output= cursorObj.fetchAll();\n",
    "output_df = pd.DataFrame(output,columns=['ID','NAME','CITY','PHONE','RATING','CUSTOMER NAME'])\n",
    "output_df"
   ]
  },
  {
   "cell_type": "markdown",
   "id": "346ec2a1",
   "metadata": {
    "id": "346ec2a1"
   },
   "source": [
    "### Q9) Display customer name and gender whose names start or end with character 'A'."
   ]
  },
  {
   "cell_type": "code",
   "execution_count": null,
   "id": "e571b5fd",
   "metadata": {
    "id": "e571b5fd"
   },
   "outputs": [],
   "source": [
    "import mysql.connector;\n",
    "import pandas as pd;\n",
    "connection = mysql.connector.connect(host =\"localhost\",user=\"root\",passwd=\"Bhavya2501@98\")\n",
    "\n",
    "cursorObject = connection.cursor();\n",
    "\n",
    "cursorObject.execute('USE e_commerce');\n",
    "\n",
    "table_insertion_query = '''\n",
    "SELECT *\n",
    "FROM e_commerce.customer\n",
    "WHERE CUS_GENDER = 'MALE'\n",
    "  AND CUS_NAME LIKE 'A%'\n",
    "  AND CUS_NAME LIKE '%A';\n",
    "\n",
    "'''\n",
    "\n",
    "cursorObject.execute(query);\n",
    "output= cursorObj.fetchAll();\n",
    "output_df = pd.DataFrame(output,columns=['ID','NAME','PHONE','CITY','GENDER'])\n",
    "output_df"
   ]
  },
  {
   "cell_type": "markdown",
   "id": "d0b01f77",
   "metadata": {
    "id": "d0b01f77"
   },
   "source": [
    "### Q10) Display the total order amount of the male customers."
   ]
  },
  {
   "cell_type": "code",
   "execution_count": null,
   "id": "c3fa76e3",
   "metadata": {
    "id": "c3fa76e3"
   },
   "outputs": [],
   "source": [
    "import mysql.connector;\n",
    "import pandas as pd;\n",
    "connection = mysql.connector.connect(host =\"localhost\",user=\"root\",passwd=\"Bhavya2501@98\")\n",
    "\n",
    "cursorObject = connection.cursor();\n",
    "\n",
    "cursorObject.execute('USE e_commerce');\n",
    "\n",
    "table_insertion_query = '''\n",
    "SELECT cust.CUS_ID, cust.CUS_NAME, cust.CUS_PHONE, cust.CUS_CITY, cust.CUS_GENDER, SUM(o.ORD_AMOUNT)\n",
    "FROM e_commerce.customer cust\n",
    "LEFT JOIN e_commerce.orders o ON cust.CUS_ID = o.CUS_ID\n",
    "GROUP BY cust.CUS_ID, cust.CUS_NAME, cust.CUS_PHONE, cust.CUS_CITY, cust.CUS_GENDER\n",
    "HAVING cust.CUS_GENDER = 'MALE';\n",
    "'''\n",
    "\n",
    "cursorObject.execute(query);\n",
    "output= cursorObj.fetchAll();\n",
    "output_df = pd.DataFrame(output,columns=['ID','NAME','PHONE','CITY','GENDER','TOTAL'])\n",
    "output_df"
   ]
  },
  {
   "cell_type": "markdown",
   "id": "ff8a9971",
   "metadata": {
    "id": "ff8a9971"
   },
   "source": [
    "### Q11) Display all the Customers left outer join with  the orders"
   ]
  },
  {
   "cell_type": "code",
   "execution_count": null,
   "id": "a340c6d6",
   "metadata": {
    "id": "a340c6d6"
   },
   "outputs": [],
   "source": [
    "import mysql.connector;\n",
    "import pandas as pd;\n",
    "connection = mysql.connector.connect(host =\"localhost\",user=\"root\",passwd=\"Bhavya2501@98\")\n",
    "\n",
    "cursorObject = connection.cursor();\n",
    "\n",
    "cursorObject.execute('USE e_commerce');\n",
    "\n",
    "table_insertion_query = '''\n",
    "SELECT cust.CUS_ID, cust.CUS_NAME, cust.CUS_PHONE, cust.CUS_CITY, cust.CUS_GENDER, o.ORD_ID, o.ORD_AMOUNT, o.ORD_DATE\n",
    "FROM e_commerce.customer cust\n",
    "LEFT OUTER JOIN e_commerce.orders o ON cust.CUS_ID = o.CUS_ID;\n",
    "'''\n",
    "\n",
    "cursorObject.execute(query);\n",
    "output= cursorObj.fetchAll();\n",
    "output_df = pd.DataFrame(output,columns=['ID','NAME','PHONE','CITY','GENDER','ORDER ID','ORDER AMOUNT','ORDER DATE'])\n",
    "output_df"
   ]
  },
  {
   "cell_type": "markdown",
   "id": "0a72afe3",
   "metadata": {
    "id": "0a72afe3"
   },
   "source": [
    "**NOTE:** Always close an open connection once you are done with the database operations"
   ]
  },
  {
   "cell_type": "markdown",
   "id": "8c88f479",
   "metadata": {
    "id": "8c88f479"
   },
   "source": [
    "## Happy Learning:)"
   ]
  }
 ],
 "metadata": {
  "colab": {
   "name": "Lab Session  -  E-Commerce.ipynb",
   "provenance": []
  },
  "kernelspec": {
   "display_name": "Python 3 (ipykernel)",
   "language": "python",
   "name": "python3"
  },
  "language_info": {
   "codemirror_mode": {
    "name": "ipython",
    "version": 3
   },
   "file_extension": ".py",
   "mimetype": "text/x-python",
   "name": "python",
   "nbconvert_exporter": "python",
   "pygments_lexer": "ipython3",
   "version": "3.11.4"
  }
 },
 "nbformat": 4,
 "nbformat_minor": 5
}
